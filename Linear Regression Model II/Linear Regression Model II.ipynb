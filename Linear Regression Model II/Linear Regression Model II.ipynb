{
 "cells": [
  {
   "cell_type": "code",
   "execution_count": 1,
   "id": "ce76e891-e54b-4799-a3b5-2aeb4fd0b372",
   "metadata": {},
   "outputs": [],
   "source": [
    "# Define 2 matrices"
   ]
  },
  {
   "cell_type": "code",
   "execution_count": 26,
   "id": "bfdce6a8-1178-4047-b408-4db0414dfb8d",
   "metadata": {},
   "outputs": [],
   "source": [
    "import numpy as np\n",
    "import pandas as pd"
   ]
  },
  {
   "cell_type": "code",
   "execution_count": 27,
   "id": "5f8627f7-ed98-42e4-9a49-6e588cce33cd",
   "metadata": {},
   "outputs": [],
   "source": [
    "X = np.array([[1000,2,1],\n",
    "             [1200,3,1],\n",
    "             [1500,3,1],\n",
    "             [1700,4,1],\n",
    "             [1900,4,1]])"
   ]
  },
  {
   "cell_type": "code",
   "execution_count": 28,
   "id": "cbde48f4-591c-47ff-972b-9967363dcbea",
   "metadata": {},
   "outputs": [],
   "source": [
    "Y = np.array([200,250,300,360,400])"
   ]
  },
  {
   "cell_type": "code",
   "execution_count": 29,
   "id": "b47f4159-cc2a-46c1-bc14-0027572563a8",
   "metadata": {},
   "outputs": [
    {
     "data": {
      "text/plain": [
       "array([[1000, 1200, 1500, 1700, 1900],\n",
       "       [   2,    3,    3,    4,    4],\n",
       "       [   1,    1,    1,    1,    1]])"
      ]
     },
     "execution_count": 29,
     "metadata": {},
     "output_type": "execute_result"
    }
   ],
   "source": [
    "X.T"
   ]
  },
  {
   "cell_type": "code",
   "execution_count": 30,
   "id": "c8cfc4f8-bb4e-4a88-b64f-d17c93a9443f",
   "metadata": {},
   "outputs": [
    {
     "data": {
      "text/plain": [
       "array([[11190000,    24500,     7300],\n",
       "       [   24500,       54,       16],\n",
       "       [    7300,       16,        5]])"
      ]
     },
     "execution_count": 30,
     "metadata": {},
     "output_type": "execute_result"
    }
   ],
   "source": [
    "result_matrix = np.dot(X.T, X)\n",
    "result_matrix"
   ]
  },
  {
   "cell_type": "code",
   "execution_count": 31,
   "id": "70174524-940e-40cf-9f85-ad1b1c17c9b4",
   "metadata": {},
   "outputs": [
    {
     "data": {
      "text/plain": [
       "array([[ 1.47368421e-05, -6.00000000e-03, -2.31578947e-03],\n",
       "       [-6.00000000e-03,  2.80000000e+00, -2.00000000e-01],\n",
       "       [-2.31578947e-03, -2.00000000e-01,  4.22105263e+00]])"
      ]
     },
     "execution_count": 31,
     "metadata": {},
     "output_type": "execute_result"
    }
   ],
   "source": [
    "inverse = np.linalg.inv(result_matrix)\n",
    "inverse"
   ]
  },
  {
   "cell_type": "code",
   "execution_count": 32,
   "id": "13ac0ca8-26c4-46c6-ac8f-0e45b0728cf6",
   "metadata": {},
   "outputs": [
    {
     "data": {
      "text/plain": [
       "array([[ 4.21052632e-04, -2.63157895e-03,  1.78947368e-03,\n",
       "        -1.26315789e-03,  1.68421053e-03],\n",
       "       [-6.00000000e-01,  1.00000000e+00, -8.00000000e-01,\n",
       "         8.00000000e-01, -4.00000000e-01],\n",
       "       [ 1.50526316e+00,  8.42105263e-01,  1.47368421e-01,\n",
       "        -5.15789474e-01, -9.78947368e-01]])"
      ]
     },
     "execution_count": 32,
     "metadata": {},
     "output_type": "execute_result"
    }
   ],
   "source": [
    "matrix_result = np.dot(inverse, X.T)\n",
    "matrix_result"
   ]
  },
  {
   "cell_type": "code",
   "execution_count": 33,
   "id": "f2fccab3-8d62-451b-aa5d-e42c5952e1cd",
   "metadata": {},
   "outputs": [
    {
     "data": {
      "text/plain": [
       "array([  0.18210526,  18.        , -21.47368421])"
      ]
     },
     "execution_count": 33,
     "metadata": {},
     "output_type": "execute_result"
    }
   ],
   "source": [
    "matrix = np.dot(matrix_result, Y)\n",
    "matrix"
   ]
  },
  {
   "cell_type": "code",
   "execution_count": null,
   "id": "c080e69a-4657-4d80-85d1-b12e766c7f05",
   "metadata": {},
   "outputs": [],
   "source": []
  },
  {
   "cell_type": "code",
   "execution_count": null,
   "id": "b1810a4d-1603-418e-8a07-3e2aa2369e65",
   "metadata": {},
   "outputs": [],
   "source": []
  }
 ],
 "metadata": {
  "kernelspec": {
   "display_name": "Python 3 (ipykernel)",
   "language": "python",
   "name": "python3"
  },
  "language_info": {
   "codemirror_mode": {
    "name": "ipython",
    "version": 3
   },
   "file_extension": ".py",
   "mimetype": "text/x-python",
   "name": "python",
   "nbconvert_exporter": "python",
   "pygments_lexer": "ipython3",
   "version": "3.13.4"
  }
 },
 "nbformat": 4,
 "nbformat_minor": 5
}
